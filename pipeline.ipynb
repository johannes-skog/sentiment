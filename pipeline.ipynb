{
 "cells": [
  {
   "cell_type": "code",
   "execution_count": 1,
   "id": "98e34b60",
   "metadata": {
    "scrolled": true
   },
   "outputs": [
    {
     "name": "stdout",
     "output_type": "stream",
     "text": [
      "Requirement already satisfied: reacher in /opt/conda/lib/python3.10/site-packages (0.3.2)\n",
      "Requirement already satisfied: scp in /opt/conda/lib/python3.10/site-packages (from reacher) (0.14.5)\n",
      "Requirement already satisfied: paramiko in /opt/conda/lib/python3.10/site-packages (from reacher) (2.12.0)\n",
      "Requirement already satisfied: six in /opt/conda/lib/python3.10/site-packages (from paramiko->reacher) (1.16.0)\n",
      "Requirement already satisfied: cryptography>=2.5 in /opt/conda/lib/python3.10/site-packages (from paramiko->reacher) (38.0.1)\n",
      "Requirement already satisfied: bcrypt>=3.1.3 in /opt/conda/lib/python3.10/site-packages (from paramiko->reacher) (4.0.1)\n",
      "Requirement already satisfied: pynacl>=1.0.1 in /opt/conda/lib/python3.10/site-packages (from paramiko->reacher) (1.5.0)\n",
      "Requirement already satisfied: cffi>=1.12 in /opt/conda/lib/python3.10/site-packages (from cryptography>=2.5->paramiko->reacher) (1.15.1)\n",
      "Requirement already satisfied: pycparser in /opt/conda/lib/python3.10/site-packages (from cffi>=1.12->cryptography>=2.5->paramiko->reacher) (2.21)\n",
      "\u001b[33mWARNING: Running pip as the 'root' user can result in broken permissions and conflicting behaviour with the system package manager. It is recommended to use a virtual environment instead: https://pip.pypa.io/warnings/venv\u001b[0m\u001b[33m\n",
      "\u001b[0m"
     ]
    }
   ],
   "source": [
    "%load_ext autoreload\n",
    "%autoreload 2\n",
    "from azure.ai.ml import command\n",
    "from azure.ai.ml.entities import Data\n",
    "from azure.ai.ml import Input\n",
    "from azure.ai.ml.constants import AssetTypes\n",
    "from azure.ai.ml import MLClient\n",
    "from dotenv import dotenv_values\n",
    "import sys\n",
    "sys.path.append('src/')\n",
    "!pip install --upgrade reacher"
   ]
  },
  {
   "cell_type": "code",
   "execution_count": 5,
   "id": "c202b2aa",
   "metadata": {},
   "outputs": [],
   "source": [
    "from util import get_ml_client\n",
    "ml_client = get_ml_client()"
   ]
  },
  {
   "cell_type": "code",
   "execution_count": 2,
   "id": "b2d692d9",
   "metadata": {},
   "outputs": [],
   "source": [
    "from reacher.reacher import RemoteClient, Reacher\n",
    "from dotenv import dotenv_values\n",
    "\n",
    "config = dotenv_values()  # take environment variables from .env.\n",
    "\n",
    "reacher = Reacher(\n",
    "    build_name=\"pytorch_base\",\n",
    "    image_name=\"pytorch_base\",\n",
    "    build_context=\"dockercontext\",\n",
    "    host=config[\"HOST\"],\n",
    "    user=config[\"USER\"],\n",
    "    password=config[\"PASSWORD\"],\n",
    "    ssh_key_filepath=config[\"SSH_KEY_PATH\"],\n",
    ")"
   ]
  },
  {
   "cell_type": "code",
   "execution_count": 36,
   "id": "5b5d18c9",
   "metadata": {
    "scrolled": true
   },
   "outputs": [
    {
     "name": "stdout",
     "output_type": "stream",
     "text": [
      "Sending build context to Docker daemon  7.168kB\r",
      "\r",
      "\r\n",
      "\u001b[91m[WARNING]: Empty continuation line found in:\r\n",
      "    RUN apt-get update && apt-get -y install     curl RUN curl -sL https://aka.ms/InstallAzureCLIDeb | bash\r\n",
      "[WARNING]: Empty continuation lines will become errors in a future release.\r\n",
      "\u001b[0mStep 1/9 : FROM pytorch/pytorch as base\r\n",
      " ---> 71eb2d092138\r\n",
      "Step 2/9 : WORKDIR /workspace\r\n",
      " ---> Using cache\r\n",
      " ---> b4c2d4774a4c\r\n",
      "Step 3/9 : ENV DEBIAN_FRONTEND=noninteractive\r\n",
      " ---> Using cache\r\n",
      " ---> 1f34b394c77c\r\n",
      "Step 4/9 : RUN apt-get update && apt-get -y install     curl RUN curl -sL https://aka.ms/InstallAzureCLIDeb | bash\r\n",
      " ---> Using cache\r\n",
      " ---> 84ad48dd2000\r\n",
      "Step 5/9 : RUN pip3 install pandas\r\n",
      " ---> Using cache\r\n",
      " ---> 536cf169e1e0\r\n",
      "Step 6/9 : FROM base\r\n",
      " ---> 536cf169e1e0\r\n",
      "Step 7/9 : COPY requirements.txt /tmp\r\n",
      " ---> Using cache\r\n",
      " ---> af8b4d334673\r\n",
      "Step 8/9 : RUN pip install -r /tmp/requirements.txt\r\n",
      " ---> Using cache\r\n",
      " ---> 63c29a2660a6\r\n",
      "Step 9/9 : RUN apt-get -y install screen\r\n",
      " ---> Using cache\r\n",
      " ---> 8981f8b335cd\r\n",
      "Successfully built 8981f8b335cd\r\n",
      "Successfully tagged pytorch_base:latest\r\n"
     ]
    }
   ],
   "source": [
    "reacher.build()"
   ]
  },
  {
   "cell_type": "code",
   "execution_count": 3,
   "id": "8fa18d79",
   "metadata": {
    "scrolled": true
   },
   "outputs": [
    {
     "name": "stdout",
     "output_type": "stream",
     "text": [
      "docker: Error response from daemon: Conflict. The container name \"/pytorch_base\" is already in use by container \"453125a248c17c4882d313908cfe7fa5083eceda713a4945d1321719c1bbe8e6\". You have to remove (or rename) that container to be able to reuse that name.\n",
      "\n",
      "See 'docker run --help'.\n",
      "\n",
      "Reading package lists... Done\n",
      "Building dependency tree       \n",
      "Reading state information... Done\n",
      "screen is already the newest version (4.6.2-1ubuntu1.1).\n",
      "0 upgraded, 0 newly installed, 0 to remove and 8 not upgraded.\n"
     ]
    }
   ],
   "source": [
    "reacher.setup(\n",
    "    ports=[8888, 6666],\n",
    "    envs=dotenv_values(\".env\") \n",
    ")"
   ]
  },
  {
   "cell_type": "code",
   "execution_count": null,
   "id": "a82cb414",
   "metadata": {},
   "outputs": [],
   "source": [
    "reacher.execute(\n",
    "    context_folder=\"src\",\n",
    "    file=\"src/setup.py\",\n",
    "    command=\"python setup.py --dataset_name twitter-sentiment\",\n",
    "    named_session=\"setup_twitter_dataset\",\n",
    ")"
   ]
  },
  {
   "cell_type": "code",
   "execution_count": null,
   "id": "8b5c2924",
   "metadata": {
    "scrolled": true
   },
   "outputs": [],
   "source": [
    "reacher.execute(\n",
    "    context_folder=\"src\",\n",
    "    file=\"src/train.py\",\n",
    "    command=\"python package.py --dataset twitter-sentiment --lock_embedding --lock_first_n_layers 7 --batch_size 25 --iterations 50000\",\n",
    "    named_session=\"train_sentiment_model\",\n",
    ")"
   ]
  },
  {
   "cell_type": "code",
   "execution_count": null,
   "id": "156fce1d",
   "metadata": {},
   "outputs": [
    {
     "name": "stdout",
     "output_type": "stream",
     "text": [
      "\u001b[r\u001b[m\u001b[2J\u001b[H\u001b[?7h\u001b[?1;4;6l\u001b[?1049h\u001b[22;0;0t\u001b[4l\u001b[?1h\u001b=\u001b[0m\u001b(B\u001b[1;24r\u001b[H\u001b[2J\u001b[H\u001b[2JYour file exceeds 100 MB. If you experience low speeds, latency, or broken connections, we recommend using the AzCopyv10 tool for this file transfer.\r\n",
      "\n",
      "Example: azcopy copy 'https://clusterwstorage396d8d4e8.blob.core.windows.net/azureml-blobstore-88938f56-fe02-4fe5-8ee5-3cc95860c6b4/LocalUpload/107b67ecae88ae11cb90a61742fc7cc5/traced.pt' 'artifacts' \r\n",
      "\n",
      "See https://docs.microsoft.com/azure/storage/common/storage-use-azcopy-v10 for more information.\r\n"
     ]
    }
   ],
   "source": [
    "reacher.execute(\n",
    "    file=\"dockercontext_torchserve/requirements.txt\",\n",
    "    context_folder=\"src\",\n",
    "    command=\"python package.py --model_name xlmr_sentiment_traced --version 1 --handler handler.py --requirements requirements.txt\",\n",
    "    named_session=\"package_sentiment_model\",\n",
    ")"
   ]
  },
  {
   "cell_type": "code",
   "execution_count": 4,
   "id": "c229da94",
   "metadata": {},
   "outputs": [
    {
     "data": {
      "text/plain": [
       "['testTwitter', 'twitter-sentiment']"
      ]
     },
     "execution_count": 4,
     "metadata": {},
     "output_type": "execute_result"
    }
   ],
   "source": [
    "reacher.artifacts"
   ]
  },
  {
   "cell_type": "code",
   "execution_count": 196,
   "id": "1fc80caf",
   "metadata": {},
   "outputs": [],
   "source": [
    "reacher.get_artifact(\"sentiment.mar\", \"artifacts\")"
   ]
  },
  {
   "cell_type": "code",
   "execution_count": null,
   "id": "81bcb250",
   "metadata": {},
   "outputs": [],
   "source": []
  },
  {
   "cell_type": "code",
   "execution_count": null,
   "id": "1cd260ea",
   "metadata": {},
   "outputs": [],
   "source": []
  },
  {
   "cell_type": "code",
   "execution_count": null,
   "id": "883142f5",
   "metadata": {},
   "outputs": [],
   "source": []
  },
  {
   "cell_type": "code",
   "execution_count": null,
   "id": "fe922817",
   "metadata": {},
   "outputs": [],
   "source": []
  },
  {
   "cell_type": "code",
   "execution_count": null,
   "id": "180394be",
   "metadata": {},
   "outputs": [],
   "source": []
  },
  {
   "cell_type": "code",
   "execution_count": 142,
   "id": "97eca038",
   "metadata": {},
   "outputs": [],
   "source": []
  },
  {
   "cell_type": "code",
   "execution_count": null,
   "id": "d16a3cda",
   "metadata": {},
   "outputs": [],
   "source": []
  },
  {
   "cell_type": "code",
   "execution_count": null,
   "id": "3ca986be",
   "metadata": {},
   "outputs": [],
   "source": []
  },
  {
   "cell_type": "code",
   "execution_count": null,
   "id": "35ddea79",
   "metadata": {},
   "outputs": [],
   "source": [
    "reacher.execute_command(\n",
    "    \"jupyter notebook --ip 0.0.0.0 --allow-root --port 8888\",\n",
    "    named_session=\"jupyter\"\n",
    ")"
   ]
  },
  {
   "cell_type": "code",
   "execution_count": null,
   "id": "400c5343",
   "metadata": {},
   "outputs": [],
   "source": []
  }
 ],
 "metadata": {
  "kernelspec": {
   "display_name": "Python 3 (ipykernel)",
   "language": "python",
   "name": "python3"
  },
  "language_info": {
   "codemirror_mode": {
    "name": "ipython",
    "version": 3
   },
   "file_extension": ".py",
   "mimetype": "text/x-python",
   "name": "python",
   "nbconvert_exporter": "python",
   "pygments_lexer": "ipython3",
   "version": "3.10.8"
  }
 },
 "nbformat": 4,
 "nbformat_minor": 5
}
